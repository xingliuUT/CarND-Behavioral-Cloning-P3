{
 "cells": [
  {
   "cell_type": "markdown",
   "metadata": {},
   "source": [
    "### Pre-process the Data"
   ]
  },
  {
   "cell_type": "code",
   "execution_count": 1,
   "metadata": {},
   "outputs": [],
   "source": [
    "import matplotlib.pyplot as plt\n",
    "%matplotlib inline\n",
    "import matplotlib.image as mpimg\n",
    "import numpy as np\n",
    "import pandas as pd\n",
    "import cv2\n",
    "import random"
   ]
  },
  {
   "cell_type": "code",
   "execution_count": 2,
   "metadata": {},
   "outputs": [],
   "source": [
    "def random_brightness(img, factor):\n",
    "    # assume input is color image\n",
    "    # convert Red, Green, Blue to Hue, Saturation, Value\n",
    "    # factor describes the range of brightness scaling: (1 - factor, 1 + factor)\n",
    "    img_hsv = cv2.cvtColor(img, cv2.COLOR_RGB2HSV)\n",
    "    bright_factor = random.uniform(1. - factor, 1. + factor)\n",
    "    #print(\"brightness\", bright_factor)\n",
    "    img_hsv = np.array(img_hsv, np.float)\n",
    "    img_hsv[:,:,2] = np.minimum(255, img_hsv[:,:,2] * bright_factor)\n",
    "    img_hsv = np.array(img_hsv, dtype = np.uint8)\n",
    "    img_new = cv2.cvtColor(img_hsv, cv2.COLOR_HSV2RGB)\n",
    "    \n",
    "    return img_new"
   ]
  },
  {
   "cell_type": "code",
   "execution_count": 3,
   "metadata": {},
   "outputs": [],
   "source": [
    "def xy_translation(img, steer, dfactor):\n",
    "    # assume input is color image\n",
    "    # dfactor is the fraction of total pixels as translation range\n",
    "    nrow, ncol, nch = img.shape\n",
    "    tX = dfactor * ncol * random.uniform(-1., 1.)\n",
    "    tY = dfactor * 0.2 * nrow * random.uniform(-1., 1.) # give vertical translation less freedom\n",
    "    #print(\"right shift =\", tX)\n",
    "    #print(\"down shift =\", tY)\n",
    "    Mtrans = np.float32([[1,0,tX], [0,1,tY]])\n",
    "    img_new = cv2.warpAffine(img, Mtrans,(ncol, nrow))\n",
    "    steer_new = steer + tX * .004\n",
    "    #print(\"steer old/new\", steer, steer_new)\n",
    "    return img_new, steer_new"
   ]
  },
  {
   "cell_type": "code",
   "execution_count": 4,
   "metadata": {},
   "outputs": [],
   "source": [
    "def crop_resize(img, new_row, new_col):\n",
    "    nrow, ncol, nch = img.shape\n",
    "    # crop out img[y1:y2, x1:x2]\n",
    "    # y1 = 0.3 * nrow: leave out the top 1/4 of image\n",
    "    # y2 = nrow - 25: leave out the bottom 25 rows\n",
    "    img_new = img[int(nrow * 0.25) : nrow - 25, 0 : ncol]\n",
    "    img_new = cv2.resize(img_new,(new_col,new_row), interpolation=cv2.INTER_AREA)\n",
    "    return img_new"
   ]
  },
  {
   "cell_type": "code",
   "execution_count": 5,
   "metadata": {},
   "outputs": [],
   "source": [
    "data_dir = \"./data/\"\n",
    "driving_log = pd.read_csv(data_dir + \"driving_log.csv\")"
   ]
  },
  {
   "cell_type": "code",
   "execution_count": 6,
   "metadata": {},
   "outputs": [
    {
     "data": {
      "text/html": [
       "<div>\n",
       "<style>\n",
       "    .dataframe thead tr:only-child th {\n",
       "        text-align: right;\n",
       "    }\n",
       "\n",
       "    .dataframe thead th {\n",
       "        text-align: left;\n",
       "    }\n",
       "\n",
       "    .dataframe tbody tr th {\n",
       "        vertical-align: top;\n",
       "    }\n",
       "</style>\n",
       "<table border=\"1\" class=\"dataframe\">\n",
       "  <thead>\n",
       "    <tr style=\"text-align: right;\">\n",
       "      <th></th>\n",
       "      <th>center</th>\n",
       "      <th>left</th>\n",
       "      <th>right</th>\n",
       "      <th>steering</th>\n",
       "      <th>throttle</th>\n",
       "      <th>brake</th>\n",
       "      <th>speed</th>\n",
       "    </tr>\n",
       "  </thead>\n",
       "  <tbody>\n",
       "    <tr>\n",
       "      <th>0</th>\n",
       "      <td>IMG/center_2016_12_01_13_30_48_287.jpg</td>\n",
       "      <td>IMG/left_2016_12_01_13_30_48_287.jpg</td>\n",
       "      <td>IMG/right_2016_12_01_13_30_48_287.jpg</td>\n",
       "      <td>0.0</td>\n",
       "      <td>0.0</td>\n",
       "      <td>0.0</td>\n",
       "      <td>22.148290</td>\n",
       "    </tr>\n",
       "    <tr>\n",
       "      <th>1</th>\n",
       "      <td>IMG/center_2016_12_01_13_30_48_404.jpg</td>\n",
       "      <td>IMG/left_2016_12_01_13_30_48_404.jpg</td>\n",
       "      <td>IMG/right_2016_12_01_13_30_48_404.jpg</td>\n",
       "      <td>0.0</td>\n",
       "      <td>0.0</td>\n",
       "      <td>0.0</td>\n",
       "      <td>21.879630</td>\n",
       "    </tr>\n",
       "    <tr>\n",
       "      <th>2</th>\n",
       "      <td>IMG/center_2016_12_01_13_31_12_937.jpg</td>\n",
       "      <td>IMG/left_2016_12_01_13_31_12_937.jpg</td>\n",
       "      <td>IMG/right_2016_12_01_13_31_12_937.jpg</td>\n",
       "      <td>0.0</td>\n",
       "      <td>0.0</td>\n",
       "      <td>0.0</td>\n",
       "      <td>1.453011</td>\n",
       "    </tr>\n",
       "  </tbody>\n",
       "</table>\n",
       "</div>"
      ],
      "text/plain": [
       "                                   center  \\\n",
       "0  IMG/center_2016_12_01_13_30_48_287.jpg   \n",
       "1  IMG/center_2016_12_01_13_30_48_404.jpg   \n",
       "2  IMG/center_2016_12_01_13_31_12_937.jpg   \n",
       "\n",
       "                                    left  \\\n",
       "0   IMG/left_2016_12_01_13_30_48_287.jpg   \n",
       "1   IMG/left_2016_12_01_13_30_48_404.jpg   \n",
       "2   IMG/left_2016_12_01_13_31_12_937.jpg   \n",
       "\n",
       "                                    right  steering  throttle  brake  \\\n",
       "0   IMG/right_2016_12_01_13_30_48_287.jpg       0.0       0.0    0.0   \n",
       "1   IMG/right_2016_12_01_13_30_48_404.jpg       0.0       0.0    0.0   \n",
       "2   IMG/right_2016_12_01_13_31_12_937.jpg       0.0       0.0    0.0   \n",
       "\n",
       "       speed  \n",
       "0  22.148290  \n",
       "1  21.879630  \n",
       "2   1.453011  "
      ]
     },
     "execution_count": 6,
     "metadata": {},
     "output_type": "execute_result"
    }
   ],
   "source": [
    "driving_log.head(3)"
   ]
  },
  {
   "cell_type": "code",
   "execution_count": 7,
   "metadata": {},
   "outputs": [
    {
     "data": {
      "text/html": [
       "<div>\n",
       "<style>\n",
       "    .dataframe thead tr:only-child th {\n",
       "        text-align: right;\n",
       "    }\n",
       "\n",
       "    .dataframe thead th {\n",
       "        text-align: left;\n",
       "    }\n",
       "\n",
       "    .dataframe tbody tr th {\n",
       "        vertical-align: top;\n",
       "    }\n",
       "</style>\n",
       "<table border=\"1\" class=\"dataframe\">\n",
       "  <thead>\n",
       "    <tr style=\"text-align: right;\">\n",
       "      <th></th>\n",
       "      <th>center</th>\n",
       "      <th>left</th>\n",
       "      <th>right</th>\n",
       "      <th>steering</th>\n",
       "      <th>throttle</th>\n",
       "      <th>brake</th>\n",
       "      <th>speed</th>\n",
       "    </tr>\n",
       "  </thead>\n",
       "  <tbody>\n",
       "    <tr>\n",
       "      <th>8033</th>\n",
       "      <td>IMG/center_2016_12_01_13_46_38_846.jpg</td>\n",
       "      <td>IMG/left_2016_12_01_13_46_38_846.jpg</td>\n",
       "      <td>IMG/right_2016_12_01_13_46_38_846.jpg</td>\n",
       "      <td>0.0</td>\n",
       "      <td>0.0</td>\n",
       "      <td>0.0</td>\n",
       "      <td>1.388364</td>\n",
       "    </tr>\n",
       "    <tr>\n",
       "      <th>8034</th>\n",
       "      <td>IMG/center_2016_12_01_13_46_38_922.jpg</td>\n",
       "      <td>IMG/left_2016_12_01_13_46_38_922.jpg</td>\n",
       "      <td>IMG/right_2016_12_01_13_46_38_922.jpg</td>\n",
       "      <td>0.0</td>\n",
       "      <td>0.0</td>\n",
       "      <td>0.0</td>\n",
       "      <td>1.377208</td>\n",
       "    </tr>\n",
       "    <tr>\n",
       "      <th>8035</th>\n",
       "      <td>IMG/center_2016_12_01_13_46_38_947.jpg</td>\n",
       "      <td>IMG/left_2016_12_01_13_46_38_947.jpg</td>\n",
       "      <td>IMG/right_2016_12_01_13_46_38_947.jpg</td>\n",
       "      <td>0.0</td>\n",
       "      <td>0.0</td>\n",
       "      <td>0.0</td>\n",
       "      <td>1.374433</td>\n",
       "    </tr>\n",
       "  </tbody>\n",
       "</table>\n",
       "</div>"
      ],
      "text/plain": [
       "                                      center  \\\n",
       "8033  IMG/center_2016_12_01_13_46_38_846.jpg   \n",
       "8034  IMG/center_2016_12_01_13_46_38_922.jpg   \n",
       "8035  IMG/center_2016_12_01_13_46_38_947.jpg   \n",
       "\n",
       "                                       left  \\\n",
       "8033   IMG/left_2016_12_01_13_46_38_846.jpg   \n",
       "8034   IMG/left_2016_12_01_13_46_38_922.jpg   \n",
       "8035   IMG/left_2016_12_01_13_46_38_947.jpg   \n",
       "\n",
       "                                       right  steering  throttle  brake  \\\n",
       "8033   IMG/right_2016_12_01_13_46_38_846.jpg       0.0       0.0    0.0   \n",
       "8034   IMG/right_2016_12_01_13_46_38_922.jpg       0.0       0.0    0.0   \n",
       "8035   IMG/right_2016_12_01_13_46_38_947.jpg       0.0       0.0    0.0   \n",
       "\n",
       "         speed  \n",
       "8033  1.388364  \n",
       "8034  1.377208  \n",
       "8035  1.374433  "
      ]
     },
     "execution_count": 7,
     "metadata": {},
     "output_type": "execute_result"
    }
   ],
   "source": [
    "driving_log.tail(3)"
   ]
  },
  {
   "cell_type": "code",
   "execution_count": 8,
   "metadata": {},
   "outputs": [
    {
     "data": {
      "image/png": "[encoded data removed]",
      "text/plain": [
       "<matplotlib.figure.Figure at 0x1182c1470>"
      ]
     },
     "metadata": {},
     "output_type": "display_data"
    }
   ],
   "source": [
    "plt.hist(driving_log.steering, log = True, bins = 100);"
   ]
  },
  {
   "cell_type": "code",
   "execution_count": 9,
   "metadata": {},
   "outputs": [
    {
     "data": {
      "image/png": "[encoded data removed]",
      "text/plain": [
       "<matplotlib.figure.Figure at 0x118a83160>"
      ]
     },
     "metadata": {},
     "output_type": "display_data"
    }
   ],
   "source": [
    "plt.hist(driving_log.throttle, log = True, bins = 100);"
   ]
  },
  {
   "cell_type": "code",
   "execution_count": 10,
   "metadata": {},
   "outputs": [
    {
     "data": {
      "image/png": "[encoded data removed]",
      "text/plain": [
       "<matplotlib.figure.Figure at 0x11aedbe10>"
      ]
     },
     "metadata": {},
     "output_type": "display_data"
    }
   ],
   "source": [
    "plt.hist(driving_log.speed, log = True, bins = 100);"
   ]
  },
  {
   "cell_type": "code",
   "execution_count": 11,
   "metadata": {},
   "outputs": [],
   "source": [
    "n_entries, n_feats = driving_log.shape"
   ]
  },
  {
   "cell_type": "code",
   "execution_count": 12,
   "metadata": {},
   "outputs": [],
   "source": [
    "steer_correction = {'left': 0.2, 'center' : 0., 'right' : -0.2}"
   ]
  },
  {
   "cell_type": "code",
   "execution_count": 13,
   "metadata": {},
   "outputs": [],
   "source": [
    "new_row = 66\n",
    "new_col = 200"
   ]
  },
  {
   "cell_type": "code",
   "execution_count": 14,
   "metadata": {},
   "outputs": [],
   "source": [
    "def preprocess_train(entry):\n",
    "    icamera = np.random.randint(3)\n",
    "    cam_pos = list(steer_correction.keys())[icamera]\n",
    "    #cam_pos = 'center'\n",
    "    filename = entry[cam_pos].strip()\n",
    "    steering = float(entry['steering']) + float(steer_correction[cam_pos])\n",
    "    img = cv2.imread(data_dir + filename)\n",
    "    img = cv2.cvtColor(img, cv2.COLOR_BGR2RGB)\n",
    "    #print('image shape', img.shape)\n",
    "    br_img = random_brightness(img, 0.3)\n",
    "    #cr_img = crop_resize(br_img, new_row, new_col)\n",
    "    #steer_new = steering\n",
    "    tr_img, steering = xy_translation(br_img, steering, 0.3)\n",
    "    cr_img = crop_resize(tr_img, new_row, new_col)\n",
    "    \n",
    "    flip_ornot = np.random.randint(2)\n",
    "    #print('flip', flip_ornot)\n",
    "    if flip_ornot == 1:\n",
    "        image = cv2.flip(cr_img, 1)    #1 means flip around y-axis\n",
    "        steering = -steering\n",
    "    else:\n",
    "        image = cr_img\n",
    "        \n",
    "    image = np.array(image)    # convert to numpy arrays for Keras\n",
    "    \n",
    "    return image, steering"
   ]
  },
  {
   "cell_type": "code",
   "execution_count": 15,
   "metadata": {},
   "outputs": [],
   "source": [
    "def preprocess_valid(entry):\n",
    "    filename = entry['center'].strip()\n",
    "    steering = float(entry['steering'])\n",
    "    img = cv2.imread(data_dir + filename)\n",
    "    img = cv2.cvtColor(img, cv2.COLOR_BGR2RGB)\n",
    "    cr_img = crop_resize(img, new_row, new_col)\n",
    "    image = np.array(cr_img)\n",
    "    return image, steering"
   ]
  },
  {
   "cell_type": "code",
   "execution_count": 16,
   "metadata": {
    "collapsed": true
   },
   "outputs": [],
   "source": [
    "def generate_train_batch(log, batch_size = 128, filter_angle = 0.1, filter_ratio = 0.9):\n",
    "\n",
    "    #batch_images = np.zeros((batch_size, new_row, new_col, 3), dtype = np.uint8)\n",
    "    batch_steering = np.zeros(batch_size, dtype = float)\n",
    "    \n",
    "    while 1:\n",
    "        for i_batch in range(batch_size):\n",
    "            \n",
    "            reselect = 1\n",
    "            while reselect == 1:\n",
    "                i_entry = np.random.randint(len(log))\n",
    "                #print(i_entry)\n",
    "                entry = log.iloc[i_entry, :]\n",
    "                image, steering = preprocess_train(entry)\n",
    "                if abs(steering) <= filter_angle:\n",
    "                    tmp_rand = np.random.uniform(0., 1.)\n",
    "                    if tmp_rand < filter_ratio:\n",
    "                        reselect = 1\n",
    "                    else:\n",
    "                        reselect = 0\n",
    "                else:\n",
    "                    reselect = 0\n",
    "            batch_images[i_batch] = image\n",
    "            batch_steering[i_batch] = steering\n",
    "            #print('steering = ', steering)\n",
    "        yield batch_images, batch_steering"
   ]
  },
  {
   "cell_type": "code",
   "execution_count": 17,
   "metadata": {
    "collapsed": true
   },
   "outputs": [],
   "source": [
    "def generate_valid(log):\n",
    "\n",
    "    while 1:\n",
    "        for i_entry in range(len(log)):\n",
    "            #print(i_entry)\n",
    "            entry = log.iloc[i_entry, :]\n",
    "            image, steering = preprocess_valid(entry)\n",
    "            #print(image.shape, steering)\n",
    "            image = image.reshape(1, image.shape[0], image.shape[1], image.shape[2])\n",
    "            steering = np.array([[steering]])\n",
    "            #print('steering = ', steering)\n",
    "            yield image, steering"
   ]
  },
  {
   "cell_type": "code",
   "execution_count": null,
   "metadata": {
    "collapsed": true
   },
   "outputs": [],
   "source": [
    "# valid_generator = generate_valid(driving_log)\n",
    "# train_generator = generate_train_batch(driving_log, batch_size = 4, filter_ratio = 0.9)"
   ]
  },
  {
   "cell_type": "code",
   "execution_count": null,
   "metadata": {
    "collapsed": true
   },
   "outputs": [],
   "source": [
    "#batch_imgs, batch_strs = next(train_generator)"
   ]
  },
  {
   "cell_type": "code",
   "execution_count": null,
   "metadata": {
    "collapsed": true
   },
   "outputs": [],
   "source": [
    "# fig = plt.figure(figsize = (16, 12))\n",
    "# for i in range(1):\n",
    "#     img, steer = next(train_generator)\n",
    "#     print(steer)\n",
    "#     for j in range(4):\n",
    "#         ax = fig.add_subplot(2, 2, i*3 + j + 1)\n",
    "#         #print('plot shape', img[j,...].shape)\n",
    "#         ax.imshow(img[j,...].squeeze())\n",
    "#         #ax.imshow(img[j,...])\n",
    "#         ax.set_title(str(steer));"
   ]
  },
  {
   "cell_type": "code",
   "execution_count": null,
   "metadata": {
    "collapsed": true
   },
   "outputs": [],
   "source": [
    "# fig = plt.figure(figsize = (16, 12))\n",
    "# for i in range(6):\n",
    "#     #next(valid_generator)\n",
    "#     img, steer = next(valid_generator)\n",
    "#     ax = fig.add_subplot(3, 2, i + 1)\n",
    "#     print(img.shape)\n",
    "#     ax.imshow(img[0,...])\n",
    "        \n",
    "#     ax.set_title(str(np.round(steer,4)));"
   ]
  },
  {
   "cell_type": "code",
   "execution_count": null,
   "metadata": {
    "collapsed": true
   },
   "outputs": [],
   "source": [
    "# fig = plt.figure(figsize = (16, 12))\n",
    "# for i in range(5092,5098):\n",
    "#     #for p in ['left', 'center', 'right']:\n",
    "#     image, steering = preprocess_train(driving_log.iloc[i,:])\n",
    "#     print(image.shape)\n",
    "#     ax = fig.add_subplot(3, 2, i - 5091)\n",
    "#     ax.imshow(image)\n",
    "#     #ax.set_title('steer =' + str(np.round(steering, 4)))\n",
    "#     ax.set_title(str(i) + '_steer =' + str(np.round(steering, 4)))    "
   ]
  },
  {
   "cell_type": "code",
   "execution_count": 18,
   "metadata": {},
   "outputs": [
    {
     "name": "stderr",
     "output_type": "stream",
     "text": [
      "Using TensorFlow backend.\n"
     ]
    }
   ],
   "source": [
    "from keras.models import Sequential, load_model\n",
    "from keras.layers import Flatten, Dense, Lambda, Cropping2D, Dropout\n",
    "from keras.layers import Convolution2D\n",
    "from keras.layers.pooling import MaxPooling2D\n",
    "from keras.optimizers import Adam\n",
    "from keras.callbacks import ModelCheckpoint  "
   ]
  },
  {
   "cell_type": "code",
   "execution_count": 19,
   "metadata": {
    "collapsed": true
   },
   "outputs": [],
   "source": [
    "def build_model(drop_prob = 0.1):\n",
    "    model = Sequential()\n",
    "    model.add(Lambda(lambda x : x/255. - 0.5, input_shape = (new_row, new_col, 3)))\n",
    "    # 3 @ 1x1 filter to choose color space automatically\n",
    "    model.add(Convolution2D(3, 1, 1, init = 'he_normal', activation = 'elu', border_mode = 'valid', name = 'conv0'))\n",
    "    model.add(Convolution2D(24, 5, 5, init = 'he_normal', subsample = (2, 2), border_mode = 'valid', activation = 'elu', name = 'conv1'))\n",
    "    model.add(Dropout(drop_prob))\n",
    "    model.add(Convolution2D(36, 5, 5, init = 'he_normal', subsample = (2, 2), border_mode = 'valid', activation = 'elu', name = 'conv2'))\n",
    "    model.add(Dropout(drop_prob))\n",
    "    model.add(Convolution2D(48, 5, 5, init = 'he_normal', subsample = (2, 2), border_mode = 'valid', activation = 'elu', name = 'conv3'))\n",
    "    model.add(Dropout(drop_prob))\n",
    "    model.add(Convolution2D(64, 3, 3, init = 'he_normal', subsample = (1, 1), border_mode = 'valid', activation = 'elu', name = 'conv4'))\n",
    "    model.add(Dropout(drop_prob))\n",
    "    model.add(Convolution2D(64, 3, 3, init = 'he_normal', subsample = (1, 1), border_mode = 'valid', activation = 'elu', name = 'conv5'))\n",
    "    model.add(Flatten())\n",
    "    model.add(Dense(100, init = 'he_normal', activation = 'elu', name = 'full1'))\n",
    "    model.add(Dropout(drop_prob))\n",
    "    model.add(Dense(50, init = 'he_normal', activation = 'elu', name = 'full2'))\n",
    "    model.add(Dropout(drop_prob))\n",
    "    model.add(Dense(10, init = 'he_normal', activation = 'elu', name = 'full3'))\n",
    "    model.add(Dropout(drop_prob))\n",
    "    model.add(Dense(1, init = 'he_normal', name = 'full4'))\n",
    "    return model"
   ]
  },
  {
   "cell_type": "code",
   "execution_count": 25,
   "metadata": {},
   "outputs": [
    {
     "name": "stdout",
     "output_type": "stream",
     "text": [
      "Epoch 1/10\n",
      "16256/16384 [============================>.] - ETA: 0s - loss: 0.0733Epoch 00000: val_loss improved from inf to 0.01282, saving model to weights.best.hdf5\n",
      "16384/16384 [==============================] - 95s - loss: 0.0733 - val_loss: 0.0128\n",
      "Epoch 2/10\n",
      "16256/16384 [============================>.] - ETA: 0s - loss: 0.0674Epoch 00001: val_loss did not improve\n",
      "16384/16384 [==============================] - 91s - loss: 0.0674 - val_loss: 0.0147\n",
      "Epoch 3/10\n",
      "16256/16384 [============================>.] - ETA: 0s - loss: 0.0604Epoch 00002: val_loss did not improve\n",
      "16384/16384 [==============================] - 90s - loss: 0.0603 - val_loss: 0.0135\n",
      "Epoch 4/10\n",
      "16256/16384 [============================>.] - ETA: 0s - loss: 0.0553Epoch 00003: val_loss did not improve\n",
      "16384/16384 [==============================] - 88s - loss: 0.0553 - val_loss: 0.0149\n",
      "Epoch 5/10\n",
      "16256/16384 [============================>.] - ETA: 0s - loss: 0.0534Epoch 00004: val_loss did not improve\n",
      "16384/16384 [==============================] - 91s - loss: 0.0534 - val_loss: 0.0145\n",
      "Epoch 6/10\n",
      " 9600/16384 [================>.............] - ETA: 24s - loss: 0.0513"
     ]
    },
    {
     "ename": "KeyboardInterrupt",
     "evalue": "",
     "output_type": "error",
     "traceback": [
      "\u001b[0;31m---------------------------------------------------------------------------\u001b[0m",
      "\u001b[0;31mKeyboardInterrupt\u001b[0m                         Traceback (most recent call last)",
      "\u001b[0;32m<ipython-input-25-bef8c6a4706d>\u001b[0m in \u001b[0;36m<module>\u001b[0;34m()\u001b[0m\n\u001b[1;32m     30\u001b[0m             \u001b[0mnb_val_samples\u001b[0m\u001b[0;34m=\u001b[0m\u001b[0mn_entries\u001b[0m\u001b[0;34m,\u001b[0m\u001b[0;34m\u001b[0m\u001b[0m\n\u001b[1;32m     31\u001b[0m             \u001b[0mverbose\u001b[0m \u001b[0;34m=\u001b[0m \u001b[0;36m1\u001b[0m\u001b[0;34m,\u001b[0m\u001b[0;34m\u001b[0m\u001b[0m\n\u001b[0;32m---> 32\u001b[0;31m             callbacks=[checkpointer])\n\u001b[0m\u001b[1;32m     33\u001b[0m     \u001b[0mi\u001b[0m \u001b[0;34m+=\u001b[0m \u001b[0;36m1\u001b[0m\u001b[0;34m\u001b[0m\u001b[0m\n",
      "\u001b[0;32m/home/carnd/anaconda3/envs/carnd-term1/lib/python3.5/site-packages/keras/models.py\u001b[0m in \u001b[0;36mfit_generator\u001b[0;34m(self, generator, samples_per_epoch, nb_epoch, verbose, callbacks, validation_data, nb_val_samples, class_weight, max_q_size, nb_worker, pickle_safe, initial_epoch, **kwargs)\u001b[0m\n\u001b[1;32m    933\u001b[0m                                         \u001b[0mnb_worker\u001b[0m\u001b[0;34m=\u001b[0m\u001b[0mnb_worker\u001b[0m\u001b[0;34m,\u001b[0m\u001b[0;34m\u001b[0m\u001b[0m\n\u001b[1;32m    934\u001b[0m                                         \u001b[0mpickle_safe\u001b[0m\u001b[0;34m=\u001b[0m\u001b[0mpickle_safe\u001b[0m\u001b[0;34m,\u001b[0m\u001b[0;34m\u001b[0m\u001b[0m\n\u001b[0;32m--> 935\u001b[0;31m                                         initial_epoch=initial_epoch)\n\u001b[0m\u001b[1;32m    936\u001b[0m \u001b[0;34m\u001b[0m\u001b[0m\n\u001b[1;32m    937\u001b[0m     def evaluate_generator(self, generator, val_samples,\n",
      "\u001b[0;32m/home/carnd/anaconda3/envs/carnd-term1/lib/python3.5/site-packages/keras/engine/training.py\u001b[0m in \u001b[0;36mfit_generator\u001b[0;34m(self, generator, samples_per_epoch, nb_epoch, verbose, callbacks, validation_data, nb_val_samples, class_weight, max_q_size, nb_worker, pickle_safe, initial_epoch)\u001b[0m\n\u001b[1;32m   1520\u001b[0m                             \u001b[0;32mbreak\u001b[0m\u001b[0;34m\u001b[0m\u001b[0m\n\u001b[1;32m   1521\u001b[0m                         \u001b[0;32melse\u001b[0m\u001b[0;34m:\u001b[0m\u001b[0;34m\u001b[0m\u001b[0m\n\u001b[0;32m-> 1522\u001b[0;31m                             \u001b[0mtime\u001b[0m\u001b[0;34m.\u001b[0m\u001b[0msleep\u001b[0m\u001b[0;34m(\u001b[0m\u001b[0mwait_time\u001b[0m\u001b[0;34m)\u001b[0m\u001b[0;34m\u001b[0m\u001b[0m\n\u001b[0m\u001b[1;32m   1523\u001b[0m \u001b[0;34m\u001b[0m\u001b[0m\n\u001b[1;32m   1524\u001b[0m                     \u001b[0;32mif\u001b[0m \u001b[0;32mnot\u001b[0m \u001b[0mhasattr\u001b[0m\u001b[0;34m(\u001b[0m\u001b[0mgenerator_output\u001b[0m\u001b[0;34m,\u001b[0m \u001b[0;34m'__len__'\u001b[0m\u001b[0;34m)\u001b[0m\u001b[0;34m:\u001b[0m\u001b[0;34m\u001b[0m\u001b[0m\n",
      "\u001b[0;31mKeyboardInterrupt\u001b[0m: "
     ]
    }
   ],
   "source": [
    "drop_prob = 0.2\n",
    "n_phases = 2\n",
    "i = 1\n",
    "train_cont = [False, True]\n",
    "epochs = [15, 10]\n",
    "filter_ratio = [0.5, 0.3]\n",
    "batch_size = 128\n",
    "model = build_model(drop_prob)\n",
    "adam = Adam(lr=1e-4)\n",
    "model.compile(loss = 'mse', optimizer = adam)\n",
    "checkpointer = ModelCheckpoint(filepath='weights.best.hdf5', \n",
    "                               verbose=1, save_best_only=True)\n",
    "\n",
    "while i < n_phases:\n",
    "    \n",
    "    model = build_model(drop_prob)\n",
    "    adam = Adam(lr=1e-4)\n",
    "    model.compile(loss = 'mse', optimizer = adam)\n",
    "    if train_cont[i]:\n",
    "        model.load_weights('weights.best.hdf5')\n",
    "    \n",
    "    \n",
    "    train_generator = generate_train_batch(driving_log, batch_size = batch_size, filter_angle = 0.1, filter_ratio = filter_ratio[i])\n",
    "    valid_generator = generate_valid(driving_log)\n",
    "\n",
    "    history = model.fit_generator(train_generator,\n",
    "            samples_per_epoch = 16384, \n",
    "            nb_epoch = epochs[i],\n",
    "            validation_data=valid_generator,\n",
    "            nb_val_samples=n_entries, \n",
    "            verbose = 1, \n",
    "            callbacks=[checkpointer])\n",
    "    i += 1"
   ]
  },
  {
   "cell_type": "code",
   "execution_count": null,
   "metadata": {
    "collapsed": true
   },
   "outputs": [],
   "source": [
    "train_cont = False\n",
    "\n",
    "if train_cont:\n",
    "    model = load_model('model.h5')\n",
    "else:\n",
    "    model = build_model(drop_prob)\n",
    "    \n",
    "adam = Adam(lr=1e-4)\n",
    "model.compile(loss = 'mse', optimizer = adam)"
   ]
  },
  {
   "cell_type": "code",
   "execution_count": null,
   "metadata": {},
   "outputs": [],
   "source": [
    "train_generator = generate_train_batch(driving_log, batch_size = batch_size, filter_angle = 0.1, filter_ratio = filter_ratio)\n",
    "valid_generator = generate_valid(driving_log)\n",
    "\n",
    "val_loss_record = []\n",
    "loss_record = []\n",
    "\n",
    "checkpointer = ModelCheckpoint(filepath='weights.best.hdf5', \n",
    "                               verbose=1, save_best_only=True)\n",
    "\n",
    "history = model.fit_generator(train_generator,\n",
    "            samples_per_epoch = 16384, \n",
    "            nb_epoch = epochs,\n",
    "            validation_data=valid_generator,\n",
    "            nb_val_samples=n_entries, \n",
    "            verbose = 1, \n",
    "            callbacks=[checkpointer])"
   ]
  },
  {
   "cell_type": "code",
   "execution_count": 21,
   "metadata": {},
   "outputs": [
    {
     "data": {
      "text/plain": [
       "[<matplotlib.lines.Line2D at 0x7ff910c78b00>]"
      ]
     },
     "execution_count": 21,
     "metadata": {},
     "output_type": "execute_result"
    },
    {
     "data": {
      "image/png": "[encoded data removed]",
      "text/plain": [
       "<matplotlib.figure.Figure at 0x7ff910c78f98>"
      ]
     },
     "metadata": {},
     "output_type": "display_data"
    }
   ],
   "source": [
    "plt.plot(history.history['val_loss'])\n",
    "plt.plot(history.history['loss'])"
   ]
  },
  {
   "cell_type": "code",
   "execution_count": 22,
   "metadata": {},
   "outputs": [],
   "source": [
    "model.load_weights('weights.best.hdf5')"
   ]
  },
  {
   "cell_type": "code",
   "execution_count": 23,
   "metadata": {
    "collapsed": true
   },
   "outputs": [],
   "source": [
    "model.save('model_test.h5')"
   ]
  },
  {
   "cell_type": "code",
   "execution_count": null,
   "metadata": {},
   "outputs": [],
   "source": [
    "!pwd"
   ]
  },
  {
   "cell_type": "code",
   "execution_count": 24,
   "metadata": {},
   "outputs": [
    {
     "name": "stdout",
     "output_type": "stream",
     "text": [
      "-rw-rw-r-- 1 carnd carnd     4201 Nov  8 20:57 drive.py\r\n",
      "-rw-rw-r-- 1 carnd carnd    45285 Nov  8 23:31 image_augmentation.ipynb\r\n",
      "-rw-rw-r-- 1 carnd carnd  3081128 Nov  8 20:57 model.h5\r\n",
      "-rw-rw-r-- 1 carnd carnd     1341 Nov  8 20:57 model_LeNet.py\r\n",
      "-rw-rw-r-- 1 carnd carnd     1341 Nov  8 20:57 model.py\r\n",
      "-rw-rw-r-- 1 carnd carnd  3081104 Nov  8 23:33 model_test.h5\r\n",
      "-rw-rw-r-- 1 carnd carnd     6375 Nov  8 20:57 README.md\r\n",
      "-rw-rw-r-- 1 carnd carnd 12950888 Nov  8 20:57 run1.mp4\r\n",
      "-rw-rw-r-- 1 carnd carnd 12435300 Nov  8 20:57 run2.mp4\r\n",
      "-rw-rw-r-- 1 carnd carnd      801 Nov  8 20:57 video.py\r\n",
      "-rw-rw-r-- 1 carnd carnd  3081104 Nov  8 23:26 weights.best.hdf5\r\n",
      "-rw-rw-r-- 1 carnd carnd     5880 Nov  8 20:57 writeup.md\r\n",
      "\r\n",
      "data:\r\n",
      "total 2628\r\n",
      "-rw-rw-r-- 1 carnd carnd 1175004 Nov  8 20:57 driving_log.csv\r\n",
      "drwxrwxr-x 2 carnd carnd 1515520 Nov  8 20:57 IMG\r\n",
      "\r\n",
      "examples:\r\n",
      "total 16\r\n",
      "-rw-rw-r-- 1 carnd carnd 7833 Nov  8 20:57 placeholder.png\r\n",
      "-rw-rw-r-- 1 carnd carnd 4908 Nov  8 20:57 placeholder_small.png\r\n"
     ]
    }
   ],
   "source": [
    "!ls -l *"
   ]
  },
  {
   "cell_type": "code",
   "execution_count": null,
   "metadata": {
    "collapsed": true
   },
   "outputs": [],
   "source": []
  }
 ],
 "metadata": {
  "anaconda-cloud": {},
  "kernelspec": {
   "display_name": "Python 3",
   "language": "python",
   "name": "python3"
  },
  "language_info": {
   "codemirror_mode": {
    "name": "ipython",
    "version": 3
   },
   "file_extension": ".py",
   "mimetype": "text/x-python",
   "name": "python",
   "nbconvert_exporter": "python",
   "pygments_lexer": "ipython3",
   "version": "3.5.2"
  },
  "widgets": {
   "state": {},
   "version": "1.1.2"
  }
 },
 "nbformat": 4,
 "nbformat_minor": 1
}
