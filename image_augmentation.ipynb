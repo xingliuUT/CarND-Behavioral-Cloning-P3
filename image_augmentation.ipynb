{
 "cells": [
  {
   "cell_type": "markdown",
   "metadata": {},
   "source": [
    "### Pre-process the Data"
   ]
  },
  {
   "cell_type": "code",
   "execution_count": 1,
   "metadata": {
    "collapsed": true
   },
   "outputs": [],
   "source": [
    "import matplotlib.pyplot as plt\n",
    "%matplotlib inline\n",
    "import matplotlib.image as mpimg\n",
    "import numpy as np\n",
    "import pandas as pd\n",
    "import cv2\n",
    "import random"
   ]
  },
  {
   "cell_type": "code",
   "execution_count": 2,
   "metadata": {
    "collapsed": true
   },
   "outputs": [],
   "source": [
    "def random_brightness(img, factor):\n",
    "    # assume input is color image\n",
    "    # convert Red, Green, Blue to Hue, Saturation, Value\n",
    "    # factor describes the range of brightness scaling: (1 - factor, 1 + factor)\n",
    "    img_hsv = cv2.cvtColor(img, cv2.COLOR_RGB2HSV)\n",
    "    bright_factor = random.uniform(1. - factor, 1. + factor)\n",
    "    #print(\"brightness\", bright_factor)\n",
    "    img_hsv = np.array(img_hsv, np.float)\n",
    "    img_hsv[:,:,2] = np.minimum(255, img_hsv[:,:,2] * bright_factor)\n",
    "    img_hsv = np.array(img_hsv, dtype = np.uint8)\n",
    "    img_new = cv2.cvtColor(img_hsv, cv2.COLOR_HSV2RGB)\n",
    "    \n",
    "    return img_new"
   ]
  },
  {
   "cell_type": "code",
   "execution_count": 3,
   "metadata": {
    "collapsed": true
   },
   "outputs": [],
   "source": [
    "def xy_translation(img, steer, dfactor):\n",
    "    # assume input is color image\n",
    "    # dfactor is the fraction of total pixels as translation range\n",
    "    nrow, ncol, nch = img.shape\n",
    "    tX = dfactor * ncol * random.uniform(-1., 1.)\n",
    "    tY = dfactor * 0.2 * nrow * random.uniform(-1., 1.) # give vertical translation less freedom\n",
    "    #print(\"right shift =\", tX)\n",
    "    #print(\"down shift =\", tY)\n",
    "    Mtrans = np.float32([[1,0,tX], [0,1,tY]])\n",
    "    img_new = cv2.warpAffine(img, Mtrans,(ncol, nrow))\n",
    "    steer_new = steer + tX * .004\n",
    "    #print(\"steer old/new\", steer, steer_new)\n",
    "    return img_new, steer_new"
   ]
  },
  {
   "cell_type": "code",
   "execution_count": 4,
   "metadata": {
    "collapsed": true
   },
   "outputs": [],
   "source": [
    "def crop_resize(img, new_row, new_col):\n",
    "    nrow, ncol, nch = img.shape\n",
    "    # crop out img[y1:y2, x1:x2]\n",
    "    # y1 = 0.3 * nrow: leave out the top 1/4 of image\n",
    "    # y2 = nrow - 25: leave out the bottom 25 rows\n",
    "    img_new = img[int(nrow * 0.25) : nrow - 25, 0 : ncol]\n",
    "    img_new = cv2.resize(img_new,(new_col,new_row), interpolation=cv2.INTER_AREA)\n",
    "    return img_new"
   ]
  },
  {
   "cell_type": "code",
   "execution_count": 5,
   "metadata": {
    "collapsed": true
   },
   "outputs": [],
   "source": [
    "data_dir = \"./data/\"\n",
    "driving_log = pd.read_csv(data_dir + \"driving_log.csv\")"
   ]
  },
  {
   "cell_type": "code",
   "execution_count": 6,
   "metadata": {},
   "outputs": [
    {
     "data": {
      "text/html": [
       "<div>\n",
       "<table border=\"1\" class=\"dataframe\">\n",
       "  <thead>\n",
       "    <tr style=\"text-align: right;\">\n",
       "      <th></th>\n",
       "      <th>center</th>\n",
       "      <th>left</th>\n",
       "      <th>right</th>\n",
       "      <th>steering</th>\n",
       "      <th>throttle</th>\n",
       "      <th>brake</th>\n",
       "      <th>speed</th>\n",
       "    </tr>\n",
       "  </thead>\n",
       "  <tbody>\n",
       "    <tr>\n",
       "      <th>0</th>\n",
       "      <td>IMG/center_2016_12_01_13_30_48_287.jpg</td>\n",
       "      <td>IMG/left_2016_12_01_13_30_48_287.jpg</td>\n",
       "      <td>IMG/right_2016_12_01_13_30_48_287.jpg</td>\n",
       "      <td>0.0</td>\n",
       "      <td>0.0</td>\n",
       "      <td>0.0</td>\n",
       "      <td>22.148290</td>\n",
       "    </tr>\n",
       "    <tr>\n",
       "      <th>1</th>\n",
       "      <td>IMG/center_2016_12_01_13_30_48_404.jpg</td>\n",
       "      <td>IMG/left_2016_12_01_13_30_48_404.jpg</td>\n",
       "      <td>IMG/right_2016_12_01_13_30_48_404.jpg</td>\n",
       "      <td>0.0</td>\n",
       "      <td>0.0</td>\n",
       "      <td>0.0</td>\n",
       "      <td>21.879630</td>\n",
       "    </tr>\n",
       "    <tr>\n",
       "      <th>2</th>\n",
       "      <td>IMG/center_2016_12_01_13_31_12_937.jpg</td>\n",
       "      <td>IMG/left_2016_12_01_13_31_12_937.jpg</td>\n",
       "      <td>IMG/right_2016_12_01_13_31_12_937.jpg</td>\n",
       "      <td>0.0</td>\n",
       "      <td>0.0</td>\n",
       "      <td>0.0</td>\n",
       "      <td>1.453011</td>\n",
       "    </tr>\n",
       "  </tbody>\n",
       "</table>\n",
       "</div>"
      ],
      "text/plain": [
       "                                   center  \\\n",
       "0  IMG/center_2016_12_01_13_30_48_287.jpg   \n",
       "1  IMG/center_2016_12_01_13_30_48_404.jpg   \n",
       "2  IMG/center_2016_12_01_13_31_12_937.jpg   \n",
       "\n",
       "                                    left  \\\n",
       "0   IMG/left_2016_12_01_13_30_48_287.jpg   \n",
       "1   IMG/left_2016_12_01_13_30_48_404.jpg   \n",
       "2   IMG/left_2016_12_01_13_31_12_937.jpg   \n",
       "\n",
       "                                    right  steering  throttle  brake  \\\n",
       "0   IMG/right_2016_12_01_13_30_48_287.jpg       0.0       0.0    0.0   \n",
       "1   IMG/right_2016_12_01_13_30_48_404.jpg       0.0       0.0    0.0   \n",
       "2   IMG/right_2016_12_01_13_31_12_937.jpg       0.0       0.0    0.0   \n",
       "\n",
       "       speed  \n",
       "0  22.148290  \n",
       "1  21.879630  \n",
       "2   1.453011  "
      ]
     },
     "execution_count": 6,
     "metadata": {},
     "output_type": "execute_result"
    }
   ],
   "source": [
    "driving_log.head(3)"
   ]
  },
  {
   "cell_type": "code",
   "execution_count": 7,
   "metadata": {},
   "outputs": [
    {
     "data": {
      "text/html": [
       "<div>\n",
       "<table border=\"1\" class=\"dataframe\">\n",
       "  <thead>\n",
       "    <tr style=\"text-align: right;\">\n",
       "      <th></th>\n",
       "      <th>center</th>\n",
       "      <th>left</th>\n",
       "      <th>right</th>\n",
       "      <th>steering</th>\n",
       "      <th>throttle</th>\n",
       "      <th>brake</th>\n",
       "      <th>speed</th>\n",
       "    </tr>\n",
       "  </thead>\n",
       "  <tbody>\n",
       "    <tr>\n",
       "      <th>8033</th>\n",
       "      <td>IMG/center_2016_12_01_13_46_38_846.jpg</td>\n",
       "      <td>IMG/left_2016_12_01_13_46_38_846.jpg</td>\n",
       "      <td>IMG/right_2016_12_01_13_46_38_846.jpg</td>\n",
       "      <td>0.0</td>\n",
       "      <td>0.0</td>\n",
       "      <td>0.0</td>\n",
       "      <td>1.388364</td>\n",
       "    </tr>\n",
       "    <tr>\n",
       "      <th>8034</th>\n",
       "      <td>IMG/center_2016_12_01_13_46_38_922.jpg</td>\n",
       "      <td>IMG/left_2016_12_01_13_46_38_922.jpg</td>\n",
       "      <td>IMG/right_2016_12_01_13_46_38_922.jpg</td>\n",
       "      <td>0.0</td>\n",
       "      <td>0.0</td>\n",
       "      <td>0.0</td>\n",
       "      <td>1.377208</td>\n",
       "    </tr>\n",
       "    <tr>\n",
       "      <th>8035</th>\n",
       "      <td>IMG/center_2016_12_01_13_46_38_947.jpg</td>\n",
       "      <td>IMG/left_2016_12_01_13_46_38_947.jpg</td>\n",
       "      <td>IMG/right_2016_12_01_13_46_38_947.jpg</td>\n",
       "      <td>0.0</td>\n",
       "      <td>0.0</td>\n",
       "      <td>0.0</td>\n",
       "      <td>1.374433</td>\n",
       "    </tr>\n",
       "  </tbody>\n",
       "</table>\n",
       "</div>"
      ],
      "text/plain": [
       "                                      center  \\\n",
       "8033  IMG/center_2016_12_01_13_46_38_846.jpg   \n",
       "8034  IMG/center_2016_12_01_13_46_38_922.jpg   \n",
       "8035  IMG/center_2016_12_01_13_46_38_947.jpg   \n",
       "\n",
       "                                       left  \\\n",
       "8033   IMG/left_2016_12_01_13_46_38_846.jpg   \n",
       "8034   IMG/left_2016_12_01_13_46_38_922.jpg   \n",
       "8035   IMG/left_2016_12_01_13_46_38_947.jpg   \n",
       "\n",
       "                                       right  steering  throttle  brake  \\\n",
       "8033   IMG/right_2016_12_01_13_46_38_846.jpg       0.0       0.0    0.0   \n",
       "8034   IMG/right_2016_12_01_13_46_38_922.jpg       0.0       0.0    0.0   \n",
       "8035   IMG/right_2016_12_01_13_46_38_947.jpg       0.0       0.0    0.0   \n",
       "\n",
       "         speed  \n",
       "8033  1.388364  \n",
       "8034  1.377208  \n",
       "8035  1.374433  "
      ]
     },
     "execution_count": 7,
     "metadata": {},
     "output_type": "execute_result"
    }
   ],
   "source": [
    "driving_log.tail(3)"
   ]
  },
  {
   "cell_type": "code",
   "execution_count": 8,
   "metadata": {},
   "outputs": [
    {
     "data": {
      "image/png": "[encoded data removed]",
      "text/plain": [
       "<matplotlib.figure.Figure at 0x7f66bacd80b8>"
      ]
     },
     "metadata": {},
     "output_type": "display_data"
    }
   ],
   "source": [
    "plt.hist(driving_log.steering, log = True, bins = 100);"
   ]
  },
  {
   "cell_type": "code",
   "execution_count": 9,
   "metadata": {},
   "outputs": [
    {
     "data": {
      "image/png": "[encoded data removed]",
      "text/plain": [
       "<matplotlib.figure.Figure at 0x7f66baae87b8>"
      ]
     },
     "metadata": {},
     "output_type": "display_data"
    }
   ],
   "source": [
    "plt.hist(driving_log.throttle, log = True, bins = 100);"
   ]
  },
  {
   "cell_type": "code",
   "execution_count": 10,
   "metadata": {},
   "outputs": [
    {
     "data": {
      "image/png": "[encoded data removed]",
      "text/plain": [
       "<matplotlib.figure.Figure at 0x7f66ba967c18>"
      ]
     },
     "metadata": {},
     "output_type": "display_data"
    }
   ],
   "source": [
    "plt.hist(driving_log.speed, log = True, bins = 100);"
   ]
  },
  {
   "cell_type": "code",
   "execution_count": 11,
   "metadata": {
    "collapsed": true
   },
   "outputs": [],
   "source": [
    "n_entries, n_feats = driving_log.shape"
   ]
  },
  {
   "cell_type": "code",
   "execution_count": 12,
   "metadata": {
    "collapsed": true
   },
   "outputs": [],
   "source": [
    "steer_correction = {'left': 0.2, 'center' : 0., 'right' : -0.2}"
   ]
  },
  {
   "cell_type": "code",
   "execution_count": 13,
   "metadata": {
    "collapsed": true
   },
   "outputs": [],
   "source": [
    "new_row = 66\n",
    "new_col = 200"
   ]
  },
  {
   "cell_type": "code",
   "execution_count": 14,
   "metadata": {
    "collapsed": true
   },
   "outputs": [],
   "source": [
    "def preprocess_train(entry):\n",
    "    icamera = np.random.randint(3)\n",
    "    cam_pos = list(steer_correction.keys())[icamera]\n",
    "    #cam_pos = 'center'\n",
    "    filename = entry[cam_pos].strip()\n",
    "    steering = float(entry['steering']) + float(steer_correction[cam_pos])\n",
    "    img = cv2.imread(data_dir + filename)\n",
    "    img = cv2.cvtColor(img, cv2.COLOR_BGR2RGB)\n",
    "    #print('image shape', img.shape)\n",
    "    br_img = random_brightness(img, 0.3)\n",
    "    #cr_img = crop_resize(br_img, new_row, new_col)\n",
    "    #steer_new = steering\n",
    "    tr_img, steering = xy_translation(br_img, steering, 0.3)\n",
    "    cr_img = crop_resize(tr_img, new_row, new_col)\n",
    "    \n",
    "    flip_ornot = np.random.randint(2)\n",
    "    #print('flip', flip_ornot)\n",
    "    if flip_ornot == 1:\n",
    "        image = cv2.flip(cr_img, 1)    #1 means flip around y-axis\n",
    "        steering = -steering\n",
    "    else:\n",
    "        image = cr_img\n",
    "        \n",
    "    image = np.array(image)    # convert to numpy arrays for Keras\n",
    "    \n",
    "    return image, steering"
   ]
  },
  {
   "cell_type": "code",
   "execution_count": 15,
   "metadata": {
    "collapsed": true
   },
   "outputs": [],
   "source": [
    "def preprocess_valid(entry):\n",
    "    filename = entry['center'].strip()\n",
    "    steering = float(entry['steering'])\n",
    "    img = cv2.imread(data_dir + filename)\n",
    "    img = cv2.cvtColor(img, cv2.COLOR_BGR2RGB)\n",
    "    cr_img = crop_resize(img, new_row, new_col)\n",
    "    image = np.array(cr_img)\n",
    "    return image, steering"
   ]
  },
  {
   "cell_type": "code",
   "execution_count": 16,
   "metadata": {
    "collapsed": true
   },
   "outputs": [],
   "source": [
    "def generate_train_batch(log, batch_size = 128, filter_angle = 0.1, filter_ratio = 0.9):\n",
    "\n",
    "    #batch_images = np.zeros((batch_size, new_row, new_col, 3), dtype = np.uint8)\n",
    "    batch_images = np.zeros((batch_size, new_row, new_col, 3), dtype = float)\n",
    "    batch_steering = np.zeros(batch_size, dtype = float)\n",
    "    \n",
    "    while 1:\n",
    "        for i_batch in range(batch_size):\n",
    "            \n",
    "            reselect = 1\n",
    "            while reselect == 1:\n",
    "                i_entry = np.random.randint(len(log))\n",
    "                #print(i_entry)\n",
    "                entry = log.iloc[i_entry, :]\n",
    "                image, steering = preprocess_train(entry)\n",
    "                if abs(steering) < filter_angle:\n",
    "                    tmp_rand = np.random.uniform(0., 1.)\n",
    "                    if tmp_rand < filter_ratio:\n",
    "                        reselect = 1\n",
    "                    else:\n",
    "                        reselect = 0\n",
    "                else:\n",
    "                    reselect = 0\n",
    "            batch_images[i_batch] = image\n",
    "            batch_steering[i_batch] = steering\n",
    "            #print('steering = ', steering)\n",
    "        yield batch_images, batch_steering"
   ]
  },
  {
   "cell_type": "code",
   "execution_count": 17,
   "metadata": {
    "collapsed": true
   },
   "outputs": [],
   "source": [
    "def generate_valid(log):\n",
    "\n",
    "    while 1:\n",
    "        for i_entry in range(len(log)):\n",
    "            #print(i_entry)\n",
    "            entry = log.iloc[i_entry, :]\n",
    "            image, steering = preprocess_valid(entry)\n",
    "            #print(image.shape, steering)\n",
    "            image = image.reshape(1, image.shape[0], image.shape[1], image.shape[2])\n",
    "            steering = np.array([[steering]])\n",
    "            #print('steering = ', steering)\n",
    "            yield image, steering"
   ]
  },
  {
   "cell_type": "code",
   "execution_count": null,
   "metadata": {
    "collapsed": true
   },
   "outputs": [],
   "source": [
    "# valid_generator = generate_valid(driving_log)\n",
    "# train_generator = generate_train_batch(driving_log, batch_size = 4, filter_ratio = 0.9)"
   ]
  },
  {
   "cell_type": "code",
   "execution_count": null,
   "metadata": {
    "collapsed": true
   },
   "outputs": [],
   "source": [
    "#batch_imgs, batch_strs = next(train_generator)"
   ]
  },
  {
   "cell_type": "code",
   "execution_count": null,
   "metadata": {
    "collapsed": true
   },
   "outputs": [],
   "source": [
    "# fig = plt.figure(figsize = (16, 12))\n",
    "# for i in range(1):\n",
    "#     img, steer = next(train_generator)\n",
    "#     print(steer)\n",
    "#     for j in range(4):\n",
    "#         ax = fig.add_subplot(2, 2, i*3 + j + 1)\n",
    "#         #print('plot shape', img[j,...].shape)\n",
    "#         ax.imshow(img[j,...].squeeze())\n",
    "#         #ax.imshow(img[j,...])\n",
    "#         ax.set_title(str(steer));"
   ]
  },
  {
   "cell_type": "code",
   "execution_count": null,
   "metadata": {
    "collapsed": true
   },
   "outputs": [],
   "source": [
    "# fig = plt.figure(figsize = (16, 12))\n",
    "# for i in range(6):\n",
    "#     #next(valid_generator)\n",
    "#     img, steer = next(valid_generator)\n",
    "#     ax = fig.add_subplot(3, 2, i + 1)\n",
    "#     print(img.shape)\n",
    "#     ax.imshow(img[0,...])\n",
    "        \n",
    "#     ax.set_title(str(np.round(steer,4)));"
   ]
  },
  {
   "cell_type": "code",
   "execution_count": null,
   "metadata": {},
   "outputs": [],
   "source": [
    "fig = plt.figure(figsize = (16, 12))\n",
    "for i in range(5092,5098):\n",
    "    #for p in ['left', 'center', 'right']:\n",
    "    image, steering = preprocess_train(driving_log.iloc[i,:])\n",
    "    print(image.shape)\n",
    "    ax = fig.add_subplot(3, 2, i - 5091)\n",
    "    ax.imshow(image)\n",
    "    #ax.set_title('steer =' + str(np.round(steering, 4)))\n",
    "    ax.set_title(str(i) + '_steer =' + str(np.round(steering, 4)))    "
   ]
  },
  {
   "cell_type": "code",
   "execution_count": 18,
   "metadata": {},
   "outputs": [
    {
     "name": "stderr",
     "output_type": "stream",
     "text": [
      "Using TensorFlow backend.\n"
     ]
    }
   ],
   "source": [
    "from keras.models import Sequential, load_model\n",
    "from keras.layers import Flatten, Dense, Lambda, Cropping2D, Dropout\n",
    "from keras.layers import Convolution2D\n",
    "from keras.layers.pooling import MaxPooling2D\n",
    "from keras.optimizers import Adam\n",
    "from keras.callbacks import ModelCheckpoint  "
   ]
  },
  {
   "cell_type": "code",
   "execution_count": 19,
   "metadata": {
    "collapsed": true
   },
   "outputs": [],
   "source": [
    "def build_model(drop_prob = 0.1, show_model = False):\n",
    "    model = Sequential()\n",
    "    model.add(Lambda(lambda x : x/255. - 0.5, input_shape = (new_row, new_col, 3)))\n",
    "    # 3 @ 1x1 filter to choose color space automatically\n",
    "    model.add(Convolution2D(3, 1, 1, init = 'he_normal', activation = 'elu', border_mode = 'valid', name = 'conv0'))\n",
    "    model.add(Convolution2D(24, 5, 5, init = 'he_normal', subsample = (2, 2), border_mode = 'valid', activation = 'elu', name = 'conv1'))\n",
    "    model.add(Dropout(drop_prob))\n",
    "    model.add(Convolution2D(36, 5, 5, init = 'he_normal', subsample = (2, 2), border_mode = 'valid', activation = 'elu', name = 'conv2'))\n",
    "    model.add(Dropout(drop_prob))\n",
    "    model.add(Convolution2D(48, 5, 5, init = 'he_normal', subsample = (2, 2), border_mode = 'valid', activation = 'elu', name = 'conv3'))\n",
    "    model.add(Dropout(drop_prob))\n",
    "    model.add(Convolution2D(64, 3, 3, init = 'he_normal', subsample = (1, 1), border_mode = 'valid', activation = 'elu', name = 'conv4'))\n",
    "    model.add(Dropout(drop_prob))\n",
    "    model.add(Convolution2D(64, 3, 3, init = 'he_normal', subsample = (1, 1), border_mode = 'valid', activation = 'elu', name = 'conv5'))\n",
    "    model.add(Flatten())\n",
    "    model.add(Dense(100, init = 'he_normal', activation = 'elu', name = 'full1'))\n",
    "    model.add(Dropout(drop_prob))\n",
    "    model.add(Dense(50, init = 'he_normal', activation = 'elu', name = 'full2'))\n",
    "    model.add(Dropout(drop_prob))\n",
    "    model.add(Dense(10, init = 'he_normal', activation = 'elu', name = 'full3'))\n",
    "    model.add(Dropout(drop_prob))\n",
    "    model.add(Dense(1, init = 'he_normal', name = 'full4'))\n",
    "    if show_model:\n",
    "        model.summary()\n",
    "    return model"
   ]
  },
  {
   "cell_type": "code",
   "execution_count": 20,
   "metadata": {},
   "outputs": [
    {
     "name": "stdout",
     "output_type": "stream",
     "text": [
      "____________________________________________________________________________________________________\n",
      "Layer (type)                     Output Shape          Param #     Connected to                     \n",
      "====================================================================================================\n",
      "lambda_1 (Lambda)                (None, 66, 200, 3)    0           lambda_input_1[0][0]             \n",
      "____________________________________________________________________________________________________\n",
      "conv0 (Convolution2D)            (None, 66, 200, 3)    12          lambda_1[0][0]                   \n",
      "____________________________________________________________________________________________________\n",
      "conv1 (Convolution2D)            (None, 31, 98, 24)    1824        conv0[0][0]                      \n",
      "____________________________________________________________________________________________________\n",
      "dropout_1 (Dropout)              (None, 31, 98, 24)    0           conv1[0][0]                      \n",
      "____________________________________________________________________________________________________\n",
      "conv2 (Convolution2D)            (None, 14, 47, 36)    21636       dropout_1[0][0]                  \n",
      "____________________________________________________________________________________________________\n",
      "dropout_2 (Dropout)              (None, 14, 47, 36)    0           conv2[0][0]                      \n",
      "____________________________________________________________________________________________________\n",
      "conv3 (Convolution2D)            (None, 5, 22, 48)     43248       dropout_2[0][0]                  \n",
      "____________________________________________________________________________________________________\n",
      "dropout_3 (Dropout)              (None, 5, 22, 48)     0           conv3[0][0]                      \n",
      "____________________________________________________________________________________________________\n",
      "conv4 (Convolution2D)            (None, 3, 20, 64)     27712       dropout_3[0][0]                  \n",
      "____________________________________________________________________________________________________\n",
      "dropout_4 (Dropout)              (None, 3, 20, 64)     0           conv4[0][0]                      \n",
      "____________________________________________________________________________________________________\n",
      "conv5 (Convolution2D)            (None, 1, 18, 64)     36928       dropout_4[0][0]                  \n",
      "____________________________________________________________________________________________________\n",
      "flatten_1 (Flatten)              (None, 1152)          0           conv5[0][0]                      \n",
      "____________________________________________________________________________________________________\n",
      "full1 (Dense)                    (None, 100)           115300      flatten_1[0][0]                  \n",
      "____________________________________________________________________________________________________\n",
      "dropout_5 (Dropout)              (None, 100)           0           full1[0][0]                      \n",
      "____________________________________________________________________________________________________\n",
      "full2 (Dense)                    (None, 50)            5050        dropout_5[0][0]                  \n",
      "____________________________________________________________________________________________________\n",
      "dropout_6 (Dropout)              (None, 50)            0           full2[0][0]                      \n",
      "____________________________________________________________________________________________________\n",
      "full3 (Dense)                    (None, 10)            510         dropout_6[0][0]                  \n",
      "____________________________________________________________________________________________________\n",
      "dropout_7 (Dropout)              (None, 10)            0           full3[0][0]                      \n",
      "____________________________________________________________________________________________________\n",
      "full4 (Dense)                    (None, 1)             11          dropout_7[0][0]                  \n",
      "====================================================================================================\n",
      "Total params: 252,231\n",
      "Trainable params: 252,231\n",
      "Non-trainable params: 0\n",
      "____________________________________________________________________________________________________\n",
      "Epoch 1/10\n",
      "16256/16384 [============================>.] - ETA: 0s - loss: 0.7026Epoch 00000: val_loss improved from inf to 0.05165, saving model to weights.best.hdf5\n",
      "16384/16384 [==============================] - 95s - loss: 0.7007 - val_loss: 0.0517\n",
      "Epoch 2/10\n",
      "16256/16384 [============================>.] - ETA: 0s - loss: 0.3887Epoch 00001: val_loss improved from 0.05165 to 0.04834, saving model to weights.best.hdf5\n",
      "16384/16384 [==============================] - 92s - loss: 0.3883 - val_loss: 0.0483\n",
      "Epoch 3/10\n",
      "16256/16384 [============================>.] - ETA: 0s - loss: 0.3074Epoch 00002: val_loss improved from 0.04834 to 0.04015, saving model to weights.best.hdf5\n",
      "16384/16384 [==============================] - 90s - loss: 0.3075 - val_loss: 0.0401\n",
      "Epoch 4/10\n",
      "16256/16384 [============================>.] - ETA: 0s - loss: 0.2635Epoch 00003: val_loss improved from 0.04015 to 0.02665, saving model to weights.best.hdf5\n",
      "16384/16384 [==============================] - 91s - loss: 0.2636 - val_loss: 0.0266\n",
      "Epoch 5/10\n",
      "16256/16384 [============================>.] - ETA: 0s - loss: 0.2221Epoch 00004: val_loss improved from 0.02665 to 0.02252, saving model to weights.best.hdf5\n",
      "16384/16384 [==============================] - 91s - loss: 0.2221 - val_loss: 0.0225\n",
      "Epoch 6/10\n",
      "16256/16384 [============================>.] - ETA: 0s - loss: 0.2013Epoch 00005: val_loss improved from 0.02252 to 0.01905, saving model to weights.best.hdf5\n",
      "16384/16384 [==============================] - 92s - loss: 0.2010 - val_loss: 0.0190\n",
      "Epoch 7/10\n",
      "16256/16384 [============================>.] - ETA: 0s - loss: 0.1768Epoch 00006: val_loss did not improve\n",
      "16384/16384 [==============================] - 91s - loss: 0.1769 - val_loss: 0.0230\n",
      "Epoch 8/10\n",
      "16256/16384 [============================>.] - ETA: 0s - loss: 0.1565Epoch 00007: val_loss did not improve\n",
      "16384/16384 [==============================] - 91s - loss: 0.1562 - val_loss: 0.0215\n",
      "Epoch 9/10\n",
      "16256/16384 [============================>.] - ETA: 0s - loss: 0.1449Epoch 00008: val_loss improved from 0.01905 to 0.01801, saving model to weights.best.hdf5\n",
      "16384/16384 [==============================] - 92s - loss: 0.1447 - val_loss: 0.0180\n",
      "Epoch 10/10\n",
      "16256/16384 [============================>.] - ETA: 0s - loss: 0.1287Epoch 00009: val_loss improved from 0.01801 to 0.01557, saving model to weights.best.hdf5\n",
      "16384/16384 [==============================] - 90s - loss: 0.1287 - val_loss: 0.0156\n",
      "____________________________________________________________________________________________________\n",
      "Layer (type)                     Output Shape          Param #     Connected to                     \n",
      "====================================================================================================\n",
      "lambda_2 (Lambda)                (None, 66, 200, 3)    0           lambda_input_2[0][0]             \n",
      "____________________________________________________________________________________________________\n",
      "conv0 (Convolution2D)            (None, 66, 200, 3)    12          lambda_2[0][0]                   \n",
      "____________________________________________________________________________________________________\n",
      "conv1 (Convolution2D)            (None, 31, 98, 24)    1824        conv0[0][0]                      \n",
      "____________________________________________________________________________________________________\n",
      "dropout_8 (Dropout)              (None, 31, 98, 24)    0           conv1[0][0]                      \n",
      "____________________________________________________________________________________________________\n",
      "conv2 (Convolution2D)            (None, 14, 47, 36)    21636       dropout_8[0][0]                  \n",
      "____________________________________________________________________________________________________\n",
      "dropout_9 (Dropout)              (None, 14, 47, 36)    0           conv2[0][0]                      \n",
      "____________________________________________________________________________________________________\n",
      "conv3 (Convolution2D)            (None, 5, 22, 48)     43248       dropout_9[0][0]                  \n",
      "____________________________________________________________________________________________________\n",
      "dropout_10 (Dropout)             (None, 5, 22, 48)     0           conv3[0][0]                      \n",
      "____________________________________________________________________________________________________\n",
      "conv4 (Convolution2D)            (None, 3, 20, 64)     27712       dropout_10[0][0]                 \n",
      "____________________________________________________________________________________________________\n",
      "dropout_11 (Dropout)             (None, 3, 20, 64)     0           conv4[0][0]                      \n",
      "____________________________________________________________________________________________________\n",
      "conv5 (Convolution2D)            (None, 1, 18, 64)     36928       dropout_11[0][0]                 \n",
      "____________________________________________________________________________________________________\n",
      "flatten_2 (Flatten)              (None, 1152)          0           conv5[0][0]                      \n",
      "____________________________________________________________________________________________________\n",
      "full1 (Dense)                    (None, 100)           115300      flatten_2[0][0]                  \n",
      "____________________________________________________________________________________________________\n",
      "dropout_12 (Dropout)             (None, 100)           0           full1[0][0]                      \n",
      "____________________________________________________________________________________________________\n",
      "full2 (Dense)                    (None, 50)            5050        dropout_12[0][0]                 \n",
      "____________________________________________________________________________________________________\n",
      "dropout_13 (Dropout)             (None, 50)            0           full2[0][0]                      \n",
      "____________________________________________________________________________________________________\n",
      "full3 (Dense)                    (None, 10)            510         dropout_13[0][0]                 \n",
      "____________________________________________________________________________________________________\n",
      "dropout_14 (Dropout)             (None, 10)            0           full3[0][0]                      \n",
      "____________________________________________________________________________________________________\n",
      "full4 (Dense)                    (None, 1)             11          dropout_14[0][0]                 \n",
      "====================================================================================================\n",
      "Total params: 252,231\n",
      "Trainable params: 252,231\n",
      "Non-trainable params: 0\n",
      "____________________________________________________________________________________________________\n"
     ]
    },
    {
     "name": "stdout",
     "output_type": "stream",
     "text": [
      "Epoch 1/10\n",
      "16256/16384 [============================>.] - ETA: 0s - loss: 0.2305Epoch 00000: val_loss did not improve\n",
      "16384/16384 [==============================] - 94s - loss: 0.2305 - val_loss: 0.0292\n",
      "Epoch 2/10\n",
      "16256/16384 [============================>.] - ETA: 0s - loss: 0.1909Epoch 00001: val_loss did not improve\n",
      "16384/16384 [==============================] - 87s - loss: 0.1908 - val_loss: 0.0213\n",
      "Epoch 3/10\n",
      "16256/16384 [============================>.] - ETA: 0s - loss: 0.1617Epoch 00002: val_loss did not improve\n",
      "16384/16384 [==============================] - 89s - loss: 0.1616 - val_loss: 0.0197\n",
      "Epoch 4/10\n",
      "16256/16384 [============================>.] - ETA: 0s - loss: 0.1369Epoch 00003: val_loss did not improve\n",
      "16384/16384 [==============================] - 87s - loss: 0.1368 - val_loss: 0.0170\n",
      "Epoch 5/10\n",
      "16256/16384 [============================>.] - ETA: 0s - loss: 0.1199Epoch 00004: val_loss improved from 0.01557 to 0.01556, saving model to weights.best.hdf5\n",
      "16384/16384 [==============================] - 88s - loss: 0.1199 - val_loss: 0.0156\n",
      "Epoch 6/10\n",
      "16256/16384 [============================>.] - ETA: 0s - loss: 0.1048Epoch 00005: val_loss improved from 0.01556 to 0.01390, saving model to weights.best.hdf5\n",
      "16384/16384 [==============================] - 89s - loss: 0.1048 - val_loss: 0.0139\n",
      "Epoch 7/10\n",
      "16256/16384 [============================>.] - ETA: 0s - loss: 0.0983Epoch 00006: val_loss improved from 0.01390 to 0.01276, saving model to weights.best.hdf5\n",
      "16384/16384 [==============================] - 87s - loss: 0.0982 - val_loss: 0.0128\n",
      "Epoch 8/10\n",
      "16256/16384 [============================>.] - ETA: 0s - loss: 0.0874Epoch 00007: val_loss did not improve\n",
      "16384/16384 [==============================] - 86s - loss: 0.0874 - val_loss: 0.0129\n",
      "Epoch 9/10\n",
      "16256/16384 [============================>.] - ETA: 0s - loss: 0.0807Epoch 00008: val_loss did not improve\n",
      "16384/16384 [==============================] - 88s - loss: 0.0808 - val_loss: 0.0136\n",
      "Epoch 10/10\n",
      "16256/16384 [============================>.] - ETA: 0s - loss: 0.0753Epoch 00009: val_loss did not improve\n",
      "16384/16384 [==============================] - 89s - loss: 0.0752 - val_loss: 0.0128\n"
     ]
    }
   ],
   "source": [
    "n_phases = 2\n",
    "i = 0\n",
    "train_cont = [False, True]\n",
    "epochs = [10, 10]\n",
    "filter_ratio = [0.5, 0.2]\n",
    "drop_prob = [0.2, 0.3]\n",
    "batch_size = 128\n",
    "# model = build_model(drop_prob)\n",
    "# adam = Adam(lr=1e-4)\n",
    "# model.compile(loss = 'mse', optimizer = adam)\n",
    "checkpointer = ModelCheckpoint(filepath='weights.best.hdf5', \n",
    "                               verbose=1, save_best_only=True)\n",
    "\n",
    "while i < n_phases:\n",
    "    \n",
    "    model = build_model(drop_prob[i], show_model = True)\n",
    "    adam = Adam(lr=1e-4)\n",
    "    model.compile(loss = 'mse', optimizer = adam)\n",
    "    if train_cont[i]:\n",
    "        model.load_weights('weights.best.hdf5')\n",
    "    \n",
    "    \n",
    "    train_generator = generate_train_batch(driving_log, batch_size = batch_size, filter_angle = 0.1, filter_ratio = filter_ratio[i])\n",
    "    valid_generator = generate_valid(driving_log)\n",
    "\n",
    "    history = model.fit_generator(train_generator,\n",
    "            samples_per_epoch = 16384, \n",
    "            nb_epoch = epochs[i],\n",
    "            validation_data=valid_generator,\n",
    "            nb_val_samples=n_entries, \n",
    "            verbose = 1, \n",
    "            callbacks=[checkpointer])\n",
    "    np.savetxt('history_val_loss_'+str(i)+'.txt', history.history['val_loss'])\n",
    "    np.savetxt('history_loss_'+str(i)+'.txt', history.history['loss'])\n",
    "    i += 1"
   ]
  },
  {
   "cell_type": "code",
   "execution_count": null,
   "metadata": {},
   "outputs": [],
   "source": [
    "train_cont = False\n",
    "\n",
    "if train_cont:\n",
    "    model = load_model('model.h5')\n",
    "else:\n",
    "    model = build_model(drop_prob)\n",
    "    \n",
    "adam = Adam(lr=1e-4)\n",
    "model.compile(loss = 'mse', optimizer = adam)"
   ]
  },
  {
   "cell_type": "code",
   "execution_count": null,
   "metadata": {
    "collapsed": true
   },
   "outputs": [],
   "source": [
    "train_generator = generate_train_batch(driving_log, batch_size = batch_size, filter_angle = 0.1, filter_ratio = filter_ratio)\n",
    "valid_generator = generate_valid(driving_log)\n",
    "\n",
    "val_loss_record = []\n",
    "loss_record = []\n",
    "\n",
    "checkpointer = ModelCheckpoint(filepath='weights.best.hdf5', \n",
    "                               verbose=1, save_best_only=True)\n",
    "\n",
    "history = model.fit_generator(train_generator,\n",
    "            samples_per_epoch = 16384, \n",
    "            nb_epoch = epochs,\n",
    "            validation_data=valid_generator,\n",
    "            nb_val_samples=n_entries, \n",
    "            verbose = 1, \n",
    "            callbacks=[checkpointer])"
   ]
  },
  {
   "cell_type": "code",
   "execution_count": 41,
   "metadata": {},
   "outputs": [
    {
     "data": {
      "image/png": "[encoded data removed]",
      "text/plain": [
       "<matplotlib.figure.Figure at 0x7f668b94add8>"
      ]
     },
     "metadata": {},
     "output_type": "display_data"
    }
   ],
   "source": [
    "plt.figure(figsize = (8, 6))\n",
    "plt.plot(history.history['loss'], label = 'train loss')\n",
    "plt.plot(history.history['val_loss'], label = 'valid loss')\n",
    "#plt.plot(np.genfromtxt('history_loss_0.txt'), label = 'train loss')\n",
    "#plt.plot(np.genfromtxt('history_val_loss_0.txt'), label = 'valid loss')\n",
    "#plt.plot(np.genfromtxt('test1_history_loss_0.txt'), label = 'train loss')\n",
    "#plt.plot(np.genfromtxt('test1_history_val_loss_0.txt'), label = 'valid loss')      \n",
    "plt.legend(fontsize = 16)\n",
    "plt.xlabel('Epochs', fontsize = 16)\n",
    "plt.tick_params(axis='both',which='major',labelsize=16,\\\n",
    "        length=5,width=2,direction='out')\n",
    "\n",
    "plt.savefig('train_loss_success1.png')"
   ]
  },
  {
   "cell_type": "code",
   "execution_count": null,
   "metadata": {
    "collapsed": true
   },
   "outputs": [],
   "source": [
    "model.load_weights('weights.best.hdf5')"
   ]
  },
  {
   "cell_type": "code",
   "execution_count": null,
   "metadata": {
    "collapsed": true
   },
   "outputs": [],
   "source": [
    "model.save('model_3.h5')"
   ]
  }
 ],
 "metadata": {
  "anaconda-cloud": {},
  "kernelspec": {
   "display_name": "Python 3",
   "language": "python",
   "name": "python3"
  },
  "language_info": {
   "codemirror_mode": {
    "name": "ipython",
    "version": 3
   },
   "file_extension": ".py",
   "mimetype": "text/x-python",
   "name": "python",
   "nbconvert_exporter": "python",
   "pygments_lexer": "ipython3",
   "version": "3.5.2"
  },
  "widgets": {
   "state": {},
   "version": "1.1.2"
  }
 },
 "nbformat": 4,
 "nbformat_minor": 1
}
